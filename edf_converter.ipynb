{
 "cells": [
  {
   "cell_type": "code",
   "execution_count": null,
   "metadata": {},
   "outputs": [],
   "source": [
    "import numpy as np\n",
    "from scipy import signal\n",
    "import scipy.io as sio\n",
    "import pandas as pd\n",
    "import matplotlib.pyplot as plt\n",
    "import pyxdf\n",
    "import glob\n",
    "import os\n",
    "from pyedflib import highlevel\n",
    "import config\n",
    "from utils.freq_calculator import do_bandpass\n",
    "from utils.edf_convert import edf_info_single_channel"
   ]
  },
  {
   "cell_type": "markdown",
   "metadata": {},
   "source": [
    "### Initialise constants"
   ]
  },
  {
   "cell_type": "code",
   "execution_count": null,
   "metadata": {},
   "outputs": [],
   "source": [
    "folder = \"/Users/eliasmeier/Documents/IDUN/Data/Eurostars_Cerebra/ORP_inear_adaptation/02_Pilot_study\"\n",
    "subject = \"S006\"\n",
    "night = \"night4\"\n",
    "idun_file_ending = \"synced_data\"\n",
    "\n",
    "freq = [0.3,45]\n",
    "channels_to_filter = [\"IDUN\"]\n",
    "upscale_factor = 1e6\n",
    "channels_to_upscale = [\"CHIN\",\"LEFT_EEG\",\"LEFT_EYE\",\"RIGHT_EYE\",\"RIGHT_EEG\",\"MASTOID\"]\n",
    "channels_to_remove = [\"AUDIO\",\"POSITION\"]\n",
    "voltage_units = ['uV','uV','uV','uV','uV','uV','uV'] # ['','uV','uV','uV','uV','','uV','uV','uV'] AUDIO and POSITION would need no unit\n",
    "clip_limits = [-500,500]\n",
    "patient_additional = 'IDUN Technologies'\n",
    "rec_type = 'Sleep recording'\n",
    "\n",
    "csv_file_path = glob.glob(\n",
    "    os.path.join(folder, subject, night, f\"*{idun_file_ending}.csv\")\n",
    ")[0]\n"
   ]
  },
  {
   "cell_type": "markdown",
   "metadata": {},
   "source": [
    "### Upload data\n",
    "\n",
    "The synced data output from the sync_main stores the data as a dataframe"
   ]
  },
  {
   "cell_type": "code",
   "execution_count": null,
   "metadata": {},
   "outputs": [],
   "source": [
    "# load complete data set\n",
    "data_all = pd.read_csv(csv_file_path,index_col=0)\n",
    "\n",
    "data_all.head()"
   ]
  },
  {
   "cell_type": "markdown",
   "metadata": {},
   "source": [
    "### Remove data\n",
    "\n",
    "Some channels may not make sense for the edf analysis so it is best to remove them"
   ]
  },
  {
   "cell_type": "code",
   "execution_count": null,
   "metadata": {},
   "outputs": [],
   "source": [
    "pruned_data = data_all.drop(columns=channels_to_remove)"
   ]
  },
  {
   "cell_type": "markdown",
   "metadata": {},
   "source": [
    "### Filter data\n",
    "\n",
    "It is important to filter data because EDF only has 16 bits to represent the signal. If we don't filter the data, the signal will be distorted. This is because if there is a DC shift of the signal, the EDF converter is forced to reduce the resolution of the signal to represent the DC shift."
   ]
  },
  {
   "cell_type": "code",
   "execution_count": null,
   "metadata": {},
   "outputs": [],
   "source": [
    "preprocessed_data = pruned_data.copy()\n",
    "for channel in channels_to_filter:\n",
    "    raw_eeg = np.array(data_all[channel].values)\n",
    "    filtered_eeg = do_bandpass(raw_eeg, freq, sample_rate=config.BASE_SAMPLE_RATE)\n",
    "    preprocessed_data[channel] = filtered_eeg\n",
    "\n",
    "preprocessed_data.head()"
   ]
  },
  {
   "cell_type": "markdown",
   "metadata": {},
   "source": [
    "### Scale data\n",
    "\n",
    "Some of the data may not be in the same scale, such as in this example the external dataset is in volts while the idun data is in microvolts. We need to scale the data to the same scale."
   ]
  },
  {
   "cell_type": "code",
   "execution_count": null,
   "metadata": {},
   "outputs": [],
   "source": [
    "scaled_preprocessed_data = preprocessed_data.copy()\n",
    "for channel in channels_to_upscale:\n",
    "    scaled_preprocessed_data[channel] = preprocessed_data[channel] * upscale_factor\n",
    "\n",
    "scaled_preprocessed_data.head()"
   ]
  },
  {
   "cell_type": "markdown",
   "metadata": {},
   "source": [
    "### Removed too high spikes\n",
    "\n",
    "The EDF converter cannot handle too high spikes. We need to remove them. Therefore any data above 1000 microvolts is made equal to 1000 microvolts. The same with the negative values."
   ]
  },
  {
   "cell_type": "code",
   "execution_count": null,
   "metadata": {},
   "outputs": [],
   "source": [
    "# clip data\n",
    "clipped_data = scaled_preprocessed_data.copy()\n",
    "all_channels = list(clipped_data.columns)\n",
    "for channel in all_channels:\n",
    "    clipped_data[channel] = clipped_data[channel].clip(\n",
    "        lower=clip_limits[0], upper=clip_limits[1]\n",
    "    )\n"
   ]
  },
  {
   "cell_type": "markdown",
   "metadata": {},
   "source": [
    "### Visualise data\n",
    "\n",
    "This is for sanity check. We can see if the data is in the correct scale and if the data is filtered correctly.\n",
    "\n",
    "Notice how I re-reference the data so that it shows similar signals as IDUN"
   ]
  },
  {
   "cell_type": "code",
   "execution_count": null,
   "metadata": {},
   "outputs": [],
   "source": [
    "# plot LEFT_EEG, RIGHT_EEG, IDUN\n",
    "fig, ax = plt.subplots(1, 1, figsize=(20, 5))\n",
    "time_axis_index = clipped_data.index.values / config.BASE_SAMPLE_RATE\n",
    "ax.plot(time_axis_index,clipped_data[\"IDUN\"].values, label=\"IDUN\")\n",
    "ax.plot(time_axis_index,clipped_data[\"RIGHT_EEG\"].values-clipped_data[\"LEFT_EEG\"].values, label=\"External EEG\")\n",
    "plt.title(\"IDUN and external EEG\")\n",
    "plt.legend()\n",
    "plt.ylabel(\"Voltage (uV)\")\n",
    "plt.xlabel(\"Time (s)\")\n",
    "plt.ylim(-600, 600)"
   ]
  },
  {
   "cell_type": "markdown",
   "metadata": {},
   "source": [
    "### Do EDF conversion"
   ]
  },
  {
   "cell_type": "code",
   "execution_count": null,
   "metadata": {},
   "outputs": [],
   "source": [
    "# Get Channel names\n",
    "ch_names = list(clipped_data.columns)\n",
    "print(ch_names)\n",
    "\n",
    "# Transpose data\n",
    "clipped_data_values = clipped_data.values\n",
    "clipped_data_tr = np.transpose(clipped_data_values)\n",
    "print(np.shape(clipped_data_tr))\n",
    "\n",
    "# Create saving name\n",
    "new_savename = os.path.join(folder, subject, night,'eeg_data.edf')\n",
    "\n",
    "# prepare edf info \n",
    "signal_info = []\n",
    "for chan_indx in range(len(ch_names)):\n",
    "    add_channel = edf_info_single_channel(clipped_data_tr[chan_indx], ch_names[chan_indx], config.BASE_SAMPLE_RATE, voltage_units[chan_indx])\n",
    "    signal_info.append(add_channel)\n",
    "    \n",
    "# create header for edf conversioon\n",
    "data_header = highlevel.make_header(patientname=subject, patient_additional=patient_additional, recording_additional=rec_type)\n",
    "# save signal as edf\n",
    "highlevel.write_edf(new_savename, clipped_data_tr, signal_info, data_header)"
   ]
  },
  {
   "cell_type": "code",
   "execution_count": null,
   "metadata": {},
   "outputs": [],
   "source": []
  }
 ],
 "metadata": {
  "kernelspec": {
   "display_name": "idn-sync-data-pWEap7XJ",
   "language": "python",
   "name": "python3"
  },
  "language_info": {
   "codemirror_mode": {
    "name": "ipython",
    "version": 3
   },
   "file_extension": ".py",
   "mimetype": "text/x-python",
   "name": "python",
   "nbconvert_exporter": "python",
   "pygments_lexer": "ipython3",
   "version": "3.10.12"
  },
  "orig_nbformat": 4
 },
 "nbformat": 4,
 "nbformat_minor": 2
}
