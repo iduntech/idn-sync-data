{
 "cells": [
  {
   "cell_type": "code",
   "execution_count": 1,
   "metadata": {},
   "outputs": [],
   "source": [
    "import numpy as np\n",
    "from scipy import signal\n",
    "import scipy.io as sio\n",
    "import pandas as pd\n",
    "import matplotlib.pyplot as plt\n",
    "import pyxdf\n",
    "import glob\n",
    "import os\n",
    "from pyedflib import highlevel\n",
    "import config\n",
    "from utils.freq_calculator import do_bandpass\n",
    "from utils.edf_convert import prepare_edf_info"
   ]
  },
  {
   "cell_type": "markdown",
   "metadata": {},
   "source": [
    "### Initialise constants"
   ]
  },
  {
   "cell_type": "code",
   "execution_count": 2,
   "metadata": {},
   "outputs": [
    {
     "ename": "IndexError",
     "evalue": "list index out of range",
     "output_type": "error",
     "traceback": [
      "\u001b[0;31m---------------------------------------------------------------------------\u001b[0m",
      "\u001b[0;31mIndexError\u001b[0m                                Traceback (most recent call last)",
      "Cell \u001b[0;32mIn[2], line 16\u001b[0m\n\u001b[1;32m     13\u001b[0m patient_additional \u001b[39m=\u001b[39m \u001b[39m'\u001b[39m\u001b[39mIDUN Technologies\u001b[39m\u001b[39m'\u001b[39m\n\u001b[1;32m     14\u001b[0m rec_type \u001b[39m=\u001b[39m \u001b[39m'\u001b[39m\u001b[39mSleep recording\u001b[39m\u001b[39m'\u001b[39m\n\u001b[0;32m---> 16\u001b[0m csv_file_path \u001b[39m=\u001b[39m glob\u001b[39m.\u001b[39;49mglob(\n\u001b[1;32m     17\u001b[0m     os\u001b[39m.\u001b[39;49mpath\u001b[39m.\u001b[39;49mjoin(folder, subject, night, \u001b[39mf\u001b[39;49m\u001b[39m\"\u001b[39;49m\u001b[39m*\u001b[39;49m\u001b[39m{\u001b[39;49;00midun_file_ending\u001b[39m}\u001b[39;49;00m\u001b[39m.csv\u001b[39;49m\u001b[39m\"\u001b[39;49m)\n\u001b[1;32m     18\u001b[0m )[\u001b[39m0\u001b[39;49m]\n",
      "\u001b[0;31mIndexError\u001b[0m: list index out of range"
     ]
    }
   ],
   "source": [
    "folder = \"01_Pre_study\"\n",
    "subject = \"S004\"\n",
    "night = \"night2\"\n",
    "idun_file_ending = \"synced_data\"\n",
    "\n",
    "freq = [0.3,45]\n",
    "channels_to_filter = [\"IDUN\"]\n",
    "upscale_factor = 1e6\n",
    "channels_to_upscale = [\"CHIN\",\"LEFT_EEG\",\"LEFT_EYE\",\"RIGHT_EYE\",\"RIGHT_EEG\",\"MASTOID\"]\n",
    "#channels_to_remove = [\"AUDIO\",\"POSITION\"]\n",
    "voltage_units = ['','uV','uV','uV','uV','','uV','uV']\n",
    "clip_limits = [-500,500]\n",
    "patient_additional = 'IDUN Technologies'\n",
    "rec_type = 'Sleep recording'\n",
    "\n",
    "csv_file_path = glob.glob(\n",
    "    os.path.join(folder, subject, night, f\"*{idun_file_ending}.csv\")\n",
    ")[0]\n"
   ]
  },
  {
   "cell_type": "markdown",
   "metadata": {},
   "source": [
    "### Upload data\n",
    "\n",
    "The synced data output from the sync_main stores the data as a dataframe"
   ]
  },
  {
   "cell_type": "code",
   "execution_count": 3,
   "metadata": {},
   "outputs": [
    {
     "data": {
      "text/html": [
       "<div>\n",
       "<style scoped>\n",
       "    .dataframe tbody tr th:only-of-type {\n",
       "        vertical-align: middle;\n",
       "    }\n",
       "\n",
       "    .dataframe tbody tr th {\n",
       "        vertical-align: top;\n",
       "    }\n",
       "\n",
       "    .dataframe thead th {\n",
       "        text-align: right;\n",
       "    }\n",
       "</style>\n",
       "<table border=\"1\" class=\"dataframe\">\n",
       "  <thead>\n",
       "    <tr style=\"text-align: right;\">\n",
       "      <th></th>\n",
       "      <th>AUDIO</th>\n",
       "      <th>CHIN</th>\n",
       "      <th>LEFT_EEG</th>\n",
       "      <th>LEFT_EYE</th>\n",
       "      <th>MASTOID</th>\n",
       "      <th>POSITION</th>\n",
       "      <th>RIGHT_EEG</th>\n",
       "      <th>RIGHT_EYE</th>\n",
       "      <th>IDUN</th>\n",
       "    </tr>\n",
       "  </thead>\n",
       "  <tbody>\n",
       "    <tr>\n",
       "      <th>0.000</th>\n",
       "      <td>7.721700</td>\n",
       "      <td>1.178632e-06</td>\n",
       "      <td>4.852931e-08</td>\n",
       "      <td>1.246998e-07</td>\n",
       "      <td>5.625016e-07</td>\n",
       "      <td>6.193702</td>\n",
       "      <td>-1.552079e-08</td>\n",
       "      <td>1.930296e-07</td>\n",
       "      <td>95.293453</td>\n",
       "    </tr>\n",
       "    <tr>\n",
       "      <th>0.004</th>\n",
       "      <td>6.576861</td>\n",
       "      <td>-1.068148e-10</td>\n",
       "      <td>5.340739e-08</td>\n",
       "      <td>1.279641e-07</td>\n",
       "      <td>2.100284e-07</td>\n",
       "      <td>6.197502</td>\n",
       "      <td>-1.063570e-08</td>\n",
       "      <td>1.992096e-07</td>\n",
       "      <td>62.220629</td>\n",
       "    </tr>\n",
       "    <tr>\n",
       "      <th>0.008</th>\n",
       "      <td>5.539755</td>\n",
       "      <td>-1.185634e-06</td>\n",
       "      <td>5.827834e-08</td>\n",
       "      <td>1.312107e-07</td>\n",
       "      <td>-1.446708e-07</td>\n",
       "      <td>6.201316</td>\n",
       "      <td>-5.758463e-09</td>\n",
       "      <td>2.053802e-07</td>\n",
       "      <td>35.472891</td>\n",
       "    </tr>\n",
       "    <tr>\n",
       "      <th>0.012</th>\n",
       "      <td>4.920931</td>\n",
       "      <td>-1.494166e-07</td>\n",
       "      <td>5.401864e-08</td>\n",
       "      <td>1.283707e-07</td>\n",
       "      <td>1.653439e-07</td>\n",
       "      <td>6.205143</td>\n",
       "      <td>-1.002371e-08</td>\n",
       "      <td>1.999839e-07</td>\n",
       "      <td>30.003541</td>\n",
       "    </tr>\n",
       "    <tr>\n",
       "      <th>0.016</th>\n",
       "      <td>4.891280</td>\n",
       "      <td>1.173484e-06</td>\n",
       "      <td>4.862029e-08</td>\n",
       "      <td>1.247863e-07</td>\n",
       "      <td>5.613512e-07</td>\n",
       "      <td>6.208983</td>\n",
       "      <td>-1.542826e-08</td>\n",
       "      <td>1.931455e-07</td>\n",
       "      <td>19.929243</td>\n",
       "    </tr>\n",
       "  </tbody>\n",
       "</table>\n",
       "</div>"
      ],
      "text/plain": [
       "          AUDIO          CHIN      LEFT_EEG      LEFT_EYE       MASTOID  \\\n",
       "0.000  7.721700  1.178632e-06  4.852931e-08  1.246998e-07  5.625016e-07   \n",
       "0.004  6.576861 -1.068148e-10  5.340739e-08  1.279641e-07  2.100284e-07   \n",
       "0.008  5.539755 -1.185634e-06  5.827834e-08  1.312107e-07 -1.446708e-07   \n",
       "0.012  4.920931 -1.494166e-07  5.401864e-08  1.283707e-07  1.653439e-07   \n",
       "0.016  4.891280  1.173484e-06  4.862029e-08  1.247863e-07  5.613512e-07   \n",
       "\n",
       "       POSITION     RIGHT_EEG     RIGHT_EYE       IDUN  \n",
       "0.000  6.193702 -1.552079e-08  1.930296e-07  95.293453  \n",
       "0.004  6.197502 -1.063570e-08  1.992096e-07  62.220629  \n",
       "0.008  6.201316 -5.758463e-09  2.053802e-07  35.472891  \n",
       "0.012  6.205143 -1.002371e-08  1.999839e-07  30.003541  \n",
       "0.016  6.208983 -1.542826e-08  1.931455e-07  19.929243  "
      ]
     },
     "execution_count": 3,
     "metadata": {},
     "output_type": "execute_result"
    }
   ],
   "source": [
    "# load complete data set\n",
    "data_all = pd.read_csv(csv_file_path,index_col=0)\n",
    "\n",
    "data_all.head()"
   ]
  },
  {
   "cell_type": "markdown",
   "metadata": {},
   "source": [
    "### Remove data\n",
    "\n",
    "Some channels may not make sense for the edf analysis so it is best to remove them"
   ]
  },
  {
   "cell_type": "code",
   "execution_count": 4,
   "metadata": {},
   "outputs": [],
   "source": [
    "pruned_data = data_all.drop(columns=channels_to_remove)"
   ]
  },
  {
   "cell_type": "markdown",
   "metadata": {},
   "source": [
    "### Filter data\n",
    "\n",
    "It is important to filter data because EDF only has 16 bits to represent the signal. If we don't filter the data, the signal will be distorted. This is because if there is a DC shift of the signal, the EDF converter is forced to reduce the resolution of the signal to represent the DC shift."
   ]
  },
  {
   "cell_type": "code",
   "execution_count": 5,
   "metadata": {},
   "outputs": [
    {
     "data": {
      "text/html": [
       "<div>\n",
       "<style scoped>\n",
       "    .dataframe tbody tr th:only-of-type {\n",
       "        vertical-align: middle;\n",
       "    }\n",
       "\n",
       "    .dataframe tbody tr th {\n",
       "        vertical-align: top;\n",
       "    }\n",
       "\n",
       "    .dataframe thead th {\n",
       "        text-align: right;\n",
       "    }\n",
       "</style>\n",
       "<table border=\"1\" class=\"dataframe\">\n",
       "  <thead>\n",
       "    <tr style=\"text-align: right;\">\n",
       "      <th></th>\n",
       "      <th>CHIN</th>\n",
       "      <th>LEFT_EEG</th>\n",
       "      <th>LEFT_EYE</th>\n",
       "      <th>MASTOID</th>\n",
       "      <th>RIGHT_EEG</th>\n",
       "      <th>RIGHT_EYE</th>\n",
       "      <th>IDUN</th>\n",
       "    </tr>\n",
       "  </thead>\n",
       "  <tbody>\n",
       "    <tr>\n",
       "      <th>0.000</th>\n",
       "      <td>1.178632e-06</td>\n",
       "      <td>4.852931e-08</td>\n",
       "      <td>1.246998e-07</td>\n",
       "      <td>5.625016e-07</td>\n",
       "      <td>-1.552079e-08</td>\n",
       "      <td>1.930296e-07</td>\n",
       "      <td>64.036792</td>\n",
       "    </tr>\n",
       "    <tr>\n",
       "      <th>0.004</th>\n",
       "      <td>-1.068148e-10</td>\n",
       "      <td>5.340739e-08</td>\n",
       "      <td>1.279641e-07</td>\n",
       "      <td>2.100284e-07</td>\n",
       "      <td>-1.063570e-08</td>\n",
       "      <td>1.992096e-07</td>\n",
       "      <td>45.645774</td>\n",
       "    </tr>\n",
       "    <tr>\n",
       "      <th>0.008</th>\n",
       "      <td>-1.185634e-06</td>\n",
       "      <td>5.827834e-08</td>\n",
       "      <td>1.312107e-07</td>\n",
       "      <td>-1.446708e-07</td>\n",
       "      <td>-5.758463e-09</td>\n",
       "      <td>2.053802e-07</td>\n",
       "      <td>25.767024</td>\n",
       "    </tr>\n",
       "    <tr>\n",
       "      <th>0.012</th>\n",
       "      <td>-1.494166e-07</td>\n",
       "      <td>5.401864e-08</td>\n",
       "      <td>1.283707e-07</td>\n",
       "      <td>1.653439e-07</td>\n",
       "      <td>-1.002371e-08</td>\n",
       "      <td>1.999839e-07</td>\n",
       "      <td>8.877546</td>\n",
       "    </tr>\n",
       "    <tr>\n",
       "      <th>0.016</th>\n",
       "      <td>1.173484e-06</td>\n",
       "      <td>4.862029e-08</td>\n",
       "      <td>1.247863e-07</td>\n",
       "      <td>5.613512e-07</td>\n",
       "      <td>-1.542826e-08</td>\n",
       "      <td>1.931455e-07</td>\n",
       "      <td>-5.602064</td>\n",
       "    </tr>\n",
       "  </tbody>\n",
       "</table>\n",
       "</div>"
      ],
      "text/plain": [
       "               CHIN      LEFT_EEG      LEFT_EYE       MASTOID     RIGHT_EEG  \\\n",
       "0.000  1.178632e-06  4.852931e-08  1.246998e-07  5.625016e-07 -1.552079e-08   \n",
       "0.004 -1.068148e-10  5.340739e-08  1.279641e-07  2.100284e-07 -1.063570e-08   \n",
       "0.008 -1.185634e-06  5.827834e-08  1.312107e-07 -1.446708e-07 -5.758463e-09   \n",
       "0.012 -1.494166e-07  5.401864e-08  1.283707e-07  1.653439e-07 -1.002371e-08   \n",
       "0.016  1.173484e-06  4.862029e-08  1.247863e-07  5.613512e-07 -1.542826e-08   \n",
       "\n",
       "          RIGHT_EYE       IDUN  \n",
       "0.000  1.930296e-07  64.036792  \n",
       "0.004  1.992096e-07  45.645774  \n",
       "0.008  2.053802e-07  25.767024  \n",
       "0.012  1.999839e-07   8.877546  \n",
       "0.016  1.931455e-07  -5.602064  "
      ]
     },
     "execution_count": 5,
     "metadata": {},
     "output_type": "execute_result"
    }
   ],
   "source": [
    "preprocessed_data = pruned_data.copy()\n",
    "for channel in channels_to_filter:\n",
    "    raw_eeg = np.array(data_all[channel].values)\n",
    "    filtered_eeg = do_bandpass(raw_eeg, freq, sample_rate=config.BASE_SAMPLE_RATE)\n",
    "    preprocessed_data[channel] = filtered_eeg\n",
    "\n",
    "preprocessed_data.head()"
   ]
  },
  {
   "cell_type": "markdown",
   "metadata": {},
   "source": [
    "### Scale data\n",
    "\n",
    "Some of the data may not be in the same scale, such as in this example the external dataset is in volts while the idun data is in microvolts. We need to scale the data to the same scale."
   ]
  },
  {
   "cell_type": "code",
   "execution_count": 6,
   "metadata": {},
   "outputs": [
    {
     "data": {
      "text/html": [
       "<div>\n",
       "<style scoped>\n",
       "    .dataframe tbody tr th:only-of-type {\n",
       "        vertical-align: middle;\n",
       "    }\n",
       "\n",
       "    .dataframe tbody tr th {\n",
       "        vertical-align: top;\n",
       "    }\n",
       "\n",
       "    .dataframe thead th {\n",
       "        text-align: right;\n",
       "    }\n",
       "</style>\n",
       "<table border=\"1\" class=\"dataframe\">\n",
       "  <thead>\n",
       "    <tr style=\"text-align: right;\">\n",
       "      <th></th>\n",
       "      <th>CHIN</th>\n",
       "      <th>LEFT_EEG</th>\n",
       "      <th>LEFT_EYE</th>\n",
       "      <th>MASTOID</th>\n",
       "      <th>RIGHT_EEG</th>\n",
       "      <th>RIGHT_EYE</th>\n",
       "      <th>IDUN</th>\n",
       "    </tr>\n",
       "  </thead>\n",
       "  <tbody>\n",
       "    <tr>\n",
       "      <th>0.000</th>\n",
       "      <td>1.178632</td>\n",
       "      <td>0.048529</td>\n",
       "      <td>0.124700</td>\n",
       "      <td>0.562502</td>\n",
       "      <td>-0.015521</td>\n",
       "      <td>0.193030</td>\n",
       "      <td>64.036792</td>\n",
       "    </tr>\n",
       "    <tr>\n",
       "      <th>0.004</th>\n",
       "      <td>-0.000107</td>\n",
       "      <td>0.053407</td>\n",
       "      <td>0.127964</td>\n",
       "      <td>0.210028</td>\n",
       "      <td>-0.010636</td>\n",
       "      <td>0.199210</td>\n",
       "      <td>45.645774</td>\n",
       "    </tr>\n",
       "    <tr>\n",
       "      <th>0.008</th>\n",
       "      <td>-1.185634</td>\n",
       "      <td>0.058278</td>\n",
       "      <td>0.131211</td>\n",
       "      <td>-0.144671</td>\n",
       "      <td>-0.005758</td>\n",
       "      <td>0.205380</td>\n",
       "      <td>25.767024</td>\n",
       "    </tr>\n",
       "    <tr>\n",
       "      <th>0.012</th>\n",
       "      <td>-0.149417</td>\n",
       "      <td>0.054019</td>\n",
       "      <td>0.128371</td>\n",
       "      <td>0.165344</td>\n",
       "      <td>-0.010024</td>\n",
       "      <td>0.199984</td>\n",
       "      <td>8.877546</td>\n",
       "    </tr>\n",
       "    <tr>\n",
       "      <th>0.016</th>\n",
       "      <td>1.173484</td>\n",
       "      <td>0.048620</td>\n",
       "      <td>0.124786</td>\n",
       "      <td>0.561351</td>\n",
       "      <td>-0.015428</td>\n",
       "      <td>0.193146</td>\n",
       "      <td>-5.602064</td>\n",
       "    </tr>\n",
       "  </tbody>\n",
       "</table>\n",
       "</div>"
      ],
      "text/plain": [
       "           CHIN  LEFT_EEG  LEFT_EYE   MASTOID  RIGHT_EEG  RIGHT_EYE       IDUN\n",
       "0.000  1.178632  0.048529  0.124700  0.562502  -0.015521   0.193030  64.036792\n",
       "0.004 -0.000107  0.053407  0.127964  0.210028  -0.010636   0.199210  45.645774\n",
       "0.008 -1.185634  0.058278  0.131211 -0.144671  -0.005758   0.205380  25.767024\n",
       "0.012 -0.149417  0.054019  0.128371  0.165344  -0.010024   0.199984   8.877546\n",
       "0.016  1.173484  0.048620  0.124786  0.561351  -0.015428   0.193146  -5.602064"
      ]
     },
     "execution_count": 6,
     "metadata": {},
     "output_type": "execute_result"
    }
   ],
   "source": [
    "scaled_preprocessed_data = preprocessed_data.copy()\n",
    "for channel in channels_to_upscale:\n",
    "    scaled_preprocessed_data[channel] = preprocessed_data[channel] * upscale_factor\n",
    "\n",
    "scaled_preprocessed_data.head()"
   ]
  },
  {
   "cell_type": "markdown",
   "metadata": {},
   "source": [
    "### Removed too high spikes\n",
    "\n",
    "The EDF converter cannot handle too high spikes. We need to remove them. Therefore any data above 1000 microvolts is made equal to 1000 microvolts. The same with the negative values."
   ]
  },
  {
   "cell_type": "code",
   "execution_count": 7,
   "metadata": {},
   "outputs": [],
   "source": [
    "# clip data\n",
    "clipped_data = scaled_preprocessed_data.copy()\n",
    "all_channels = list(clipped_data.columns)\n",
    "for channel in all_channels:\n",
    "    clipped_data[channel] = clipped_data[channel].clip(\n",
    "        lower=clip_limits[0], upper=clip_limits[1]\n",
    "    )\n"
   ]
  },
  {
   "cell_type": "markdown",
   "metadata": {},
   "source": [
    "### Visualise data\n",
    "\n",
    "This is for sanity check. We can see if the data is in the correct scale and if the data is filtered correctly.\n",
    "\n",
    "Notice how I re-reference the data so that it shows similar signals as IDUN"
   ]
  },
  {
   "cell_type": "code",
   "execution_count": 8,
   "metadata": {},
   "outputs": [
    {
     "data": {
      "text/plain": [
       "(-600.0, 600.0)"
      ]
     },
     "execution_count": 8,
     "metadata": {},
     "output_type": "execute_result"
    },
    {
     "name": "stderr",
     "output_type": "stream",
     "text": [
      "/Users/waddaben/.local/share/virtualenvs/idn-sync-data-pWEap7XJ/lib/python3.11/site-packages/IPython/core/events.py:93: UserWarning: Creating legend with loc=\"best\" can be slow with large amounts of data.\n",
      "  func(*args, **kwargs)\n",
      "/Users/waddaben/.local/share/virtualenvs/idn-sync-data-pWEap7XJ/lib/python3.11/site-packages/IPython/core/pylabtools.py:152: UserWarning: Creating legend with loc=\"best\" can be slow with large amounts of data.\n",
      "  fig.canvas.print_figure(bytes_io, **kw)\n"
     ]
    },
    {
     "data": {
      "image/png": "[encoded data removed]",
      "text/plain": [
       "<Figure size 2000x500 with 1 Axes>"
      ]
     },
     "metadata": {},
     "output_type": "display_data"
    }
   ],
   "source": [
    "# plot LEFT_EEG, RIGHT_EEG, IDUN\n",
    "fig, ax = plt.subplots(1, 1, figsize=(20, 5))\n",
    "time_axis_index = clipped_data.index.values / config.BASE_SAMPLE_RATE\n",
    "ax.plot(time_axis_index,clipped_data[\"IDUN\"].values, label=\"IDUN\")\n",
    "ax.plot(time_axis_index,clipped_data[\"RIGHT_EEG\"].values-clipped_data[\"LEFT_EEG\"].values, label=\"External EEG\")\n",
    "plt.title(\"IDUN and external EEG\")\n",
    "plt.legend()\n",
    "plt.ylabel(\"Voltage (uV)\")\n",
    "plt.xlabel(\"Time (s)\")\n",
    "plt.ylim(-600, 600)"
   ]
  },
  {
   "cell_type": "markdown",
   "metadata": {},
   "source": [
    "### Do EDF conversion"
   ]
  },
  {
   "cell_type": "code",
   "execution_count": 9,
   "metadata": {},
   "outputs": [
    {
     "name": "stdout",
     "output_type": "stream",
     "text": [
      "['CHIN', 'LEFT_EEG', 'LEFT_EYE', 'MASTOID', 'RIGHT_EEG', 'RIGHT_EYE', 'IDUN']\n",
      "(7, 4473728)\n",
      "['CHIN', 'LEFT_EEG', 'LEFT_EYE', 'MASTOID', 'RIGHT_EEG', 'RIGHT_EYE', 'IDUN']\n"
     ]
    },
    {
     "data": {
      "text/plain": [
       "True"
      ]
     },
     "execution_count": 9,
     "metadata": {},
     "output_type": "execute_result"
    }
   ],
   "source": [
    "# Get Channel names\n",
    "ch_names = list(clipped_data.columns)\n",
    "print(ch_names)\n",
    "\n",
    "# Transpose data\n",
    "clipped_data_values = clipped_data.values\n",
    "clipped_data_tr = np.transpose(clipped_data_values)\n",
    "print(np.shape(clipped_data_tr))\n",
    "\n",
    "# Create saving name\n",
    "new_savename = os.path.join(folder, subject, night,'eeg_data.edf')\n",
    "\n",
    "# prepare edf info \n",
    "signal_info = prepare_edf_info(clipped_data_tr, ch_names, config.BASE_SAMPLE_RATE, voltage_units)  \n",
    "# create header for edf conversioon\n",
    "data_header = highlevel.make_header(patientname=subject, patient_additional=patient_additional, recording_additional=rec_type)\n",
    "# save signal as edf\n",
    "highlevel.write_edf(new_savename, clipped_data_tr, signal_info, data_header)"
   ]
  }
 ],
 "metadata": {
  "kernelspec": {
   "display_name": "idn-sync-data-pWEap7XJ",
   "language": "python",
   "name": "python3"
  },
  "language_info": {
   "codemirror_mode": {
    "name": "ipython",
    "version": 3
   },
   "file_extension": ".py",
   "mimetype": "text/x-python",
   "name": "python",
   "nbconvert_exporter": "python",
   "pygments_lexer": "ipython3",
   "version": "3.10.12"
  },
  "orig_nbformat": 4
 },
 "nbformat": 4,
 "nbformat_minor": 2
}
