{
 "cells": [
  {
   "cell_type": "code",
   "execution_count": 1,
   "metadata": {},
   "outputs": [],
   "source": [
    "import numpy as np\n",
    "from scipy import signal\n",
    "import scipy.io as sio\n",
    "import pandas as pd\n",
    "import matplotlib.pyplot as plt\n",
    "import pyxdf\n",
    "import glob\n",
    "import os\n",
    "from pyedflib import highlevel\n",
    "import config\n",
    "from utils.freq_calculator import do_bandpass\n",
    "from utils.edf_convert import edf_info_single_channel"
   ]
  },
  {
   "cell_type": "markdown",
   "metadata": {},
   "source": [
    "### Initialise constants"
   ]
  },
  {
   "cell_type": "code",
   "execution_count": 2,
   "metadata": {},
   "outputs": [],
   "source": [
    "folder = \"01_Pre_study\"\n",
    "subject = \"S007\"\n",
    "night = \"night2\"\n",
    "idun_file_ending = \"synced_data\"\n",
    "\n",
    "freq = [0.3, 45]\n",
    "channels_to_filter = [\"IDUN\"]\n",
    "upscale_factor = 1\n",
    "channels_to_upscale = [\n",
    "    \"AUDIO\",\n",
    "    \"POSITION\",\n",
    "    \"CHIN\",\n",
    "    \"LEFT_EEG\",\n",
    "    \"LEFT_EYE\",\n",
    "    \"RIGHT_EYE\",\n",
    "    \"RIGHT_EEG\",\n",
    "    \"MASTOID\",\n",
    "]\n",
    "channels_to_remove = []\n",
    "voltage_units = [\n",
    "    \"\",\n",
    "    \"uV\",\n",
    "    \"uV\",\n",
    "    \"uV\",\n",
    "    \"uV\",\n",
    "    \"\",\n",
    "    \"uV\",\n",
    "    \"uV\",\n",
    "    \"uV\",\n",
    "]  # AUDIO and POSITION would need no unit\n",
    "clip_limits = [-500, 500]\n",
    "patient_additional = \"IDUN Technologies\"\n",
    "rec_type = \"Sleep recording\"\n",
    "\n",
    "csv_file_path = glob.glob(\n",
    "    os.path.join(folder, subject, night, f\"*{idun_file_ending}.csv\")\n",
    ")[0]"
   ]
  },
  {
   "cell_type": "markdown",
   "metadata": {},
   "source": [
    "### Upload data\n",
    "\n",
    "The synced data output from the sync_main stores the data as a dataframe"
   ]
  },
  {
   "cell_type": "code",
   "execution_count": 3,
   "metadata": {},
   "outputs": [
    {
     "data": {
      "text/html": [
       "<div>\n",
       "<style scoped>\n",
       "    .dataframe tbody tr th:only-of-type {\n",
       "        vertical-align: middle;\n",
       "    }\n",
       "\n",
       "    .dataframe tbody tr th {\n",
       "        vertical-align: top;\n",
       "    }\n",
       "\n",
       "    .dataframe thead th {\n",
       "        text-align: right;\n",
       "    }\n",
       "</style>\n",
       "<table border=\"1\" class=\"dataframe\">\n",
       "  <thead>\n",
       "    <tr style=\"text-align: right;\">\n",
       "      <th></th>\n",
       "      <th>AUDIO</th>\n",
       "      <th>CHIN</th>\n",
       "      <th>LEFT_EEG</th>\n",
       "      <th>LEFT_EYE</th>\n",
       "      <th>MASTOID</th>\n",
       "      <th>POSITION</th>\n",
       "      <th>RIGHT_EEG</th>\n",
       "      <th>RIGHT_EYE</th>\n",
       "      <th>IDUN</th>\n",
       "    </tr>\n",
       "  </thead>\n",
       "  <tbody>\n",
       "    <tr>\n",
       "      <th>0.000</th>\n",
       "      <td>7.849863</td>\n",
       "      <td>-1.150347</td>\n",
       "      <td>-27.236978</td>\n",
       "      <td>3.227136</td>\n",
       "      <td>30.503151</td>\n",
       "      <td>7.002667</td>\n",
       "      <td>1.116844</td>\n",
       "      <td>-12.547017</td>\n",
       "      <td>17.857770</td>\n",
       "    </tr>\n",
       "    <tr>\n",
       "      <th>0.004</th>\n",
       "      <td>7.865978</td>\n",
       "      <td>-8.427137</td>\n",
       "      <td>-26.350444</td>\n",
       "      <td>0.113559</td>\n",
       "      <td>26.975967</td>\n",
       "      <td>7.002692</td>\n",
       "      <td>-3.102237</td>\n",
       "      <td>-14.739494</td>\n",
       "      <td>13.667788</td>\n",
       "    </tr>\n",
       "    <tr>\n",
       "      <th>0.008</th>\n",
       "      <td>7.616174</td>\n",
       "      <td>-8.502008</td>\n",
       "      <td>-24.489598</td>\n",
       "      <td>-4.079216</td>\n",
       "      <td>24.894765</td>\n",
       "      <td>7.002716</td>\n",
       "      <td>-5.964428</td>\n",
       "      <td>-15.235406</td>\n",
       "      <td>8.183231</td>\n",
       "    </tr>\n",
       "    <tr>\n",
       "      <th>0.012</th>\n",
       "      <td>7.088725</td>\n",
       "      <td>-1.720811</td>\n",
       "      <td>-21.829495</td>\n",
       "      <td>-7.135601</td>\n",
       "      <td>26.225555</td>\n",
       "      <td>7.002740</td>\n",
       "      <td>-5.756810</td>\n",
       "      <td>-13.650226</td>\n",
       "      <td>-1.971026</td>\n",
       "    </tr>\n",
       "    <tr>\n",
       "      <th>0.016</th>\n",
       "      <td>6.324792</td>\n",
       "      <td>4.808293</td>\n",
       "      <td>-20.063536</td>\n",
       "      <td>-9.272938</td>\n",
       "      <td>31.266788</td>\n",
       "      <td>7.002764</td>\n",
       "      <td>-5.168275</td>\n",
       "      <td>-12.539544</td>\n",
       "      <td>-7.384913</td>\n",
       "    </tr>\n",
       "  </tbody>\n",
       "</table>\n",
       "</div>"
      ],
      "text/plain": [
       "          AUDIO      CHIN   LEFT_EEG  LEFT_EYE    MASTOID  POSITION  \\\n",
       "0.000  7.849863 -1.150347 -27.236978  3.227136  30.503151  7.002667   \n",
       "0.004  7.865978 -8.427137 -26.350444  0.113559  26.975967  7.002692   \n",
       "0.008  7.616174 -8.502008 -24.489598 -4.079216  24.894765  7.002716   \n",
       "0.012  7.088725 -1.720811 -21.829495 -7.135601  26.225555  7.002740   \n",
       "0.016  6.324792  4.808293 -20.063536 -9.272938  31.266788  7.002764   \n",
       "\n",
       "       RIGHT_EEG  RIGHT_EYE       IDUN  \n",
       "0.000   1.116844 -12.547017  17.857770  \n",
       "0.004  -3.102237 -14.739494  13.667788  \n",
       "0.008  -5.964428 -15.235406   8.183231  \n",
       "0.012  -5.756810 -13.650226  -1.971026  \n",
       "0.016  -5.168275 -12.539544  -7.384913  "
      ]
     },
     "execution_count": 3,
     "metadata": {},
     "output_type": "execute_result"
    }
   ],
   "source": [
    "# load complete data set\n",
    "data_all = pd.read_csv(csv_file_path, index_col=0)\n",
    "\n",
    "data_all.head()"
   ]
  },
  {
   "cell_type": "markdown",
   "metadata": {},
   "source": [
    "### Remove data\n",
    "\n",
    "Some channels may not make sense for the edf analysis so it is best to remove them"
   ]
  },
  {
   "cell_type": "code",
   "execution_count": null,
   "metadata": {},
   "outputs": [],
   "source": [
    "pruned_data = data_all.drop(columns=channels_to_remove)"
   ]
  },
  {
   "cell_type": "markdown",
   "metadata": {},
   "source": [
    "### Filter data\n",
    "\n",
    "It is important to filter data because EDF only has 16 bits to represent the signal. If we don't filter the data, the signal will be distorted. This is because if there is a DC shift of the signal, the EDF converter is forced to reduce the resolution of the signal to represent the DC shift."
   ]
  },
  {
   "cell_type": "code",
   "execution_count": null,
   "metadata": {},
   "outputs": [
    {
     "data": {
      "text/html": [
       "<div>\n",
       "<style scoped>\n",
       "    .dataframe tbody tr th:only-of-type {\n",
       "        vertical-align: middle;\n",
       "    }\n",
       "\n",
       "    .dataframe tbody tr th {\n",
       "        vertical-align: top;\n",
       "    }\n",
       "\n",
       "    .dataframe thead th {\n",
       "        text-align: right;\n",
       "    }\n",
       "</style>\n",
       "<table border=\"1\" class=\"dataframe\">\n",
       "  <thead>\n",
       "    <tr style=\"text-align: right;\">\n",
       "      <th></th>\n",
       "      <th>AUDIO</th>\n",
       "      <th>CHIN</th>\n",
       "      <th>LEFT_EEG</th>\n",
       "      <th>LEFT_EYE</th>\n",
       "      <th>MASTOID</th>\n",
       "      <th>POSITION</th>\n",
       "      <th>RIGHT_EEG</th>\n",
       "      <th>RIGHT_EYE</th>\n",
       "      <th>IDUN</th>\n",
       "    </tr>\n",
       "  </thead>\n",
       "  <tbody>\n",
       "    <tr>\n",
       "      <th>0.000</th>\n",
       "      <td>2.678350</td>\n",
       "      <td>-2.062166</td>\n",
       "      <td>-0.318644</td>\n",
       "      <td>-1.127049</td>\n",
       "      <td>0.702094</td>\n",
       "      <td>7.000000</td>\n",
       "      <td>-0.543016</td>\n",
       "      <td>0.259682</td>\n",
       "      <td>11.795794</td>\n",
       "    </tr>\n",
       "    <tr>\n",
       "      <th>0.004</th>\n",
       "      <td>13.064953</td>\n",
       "      <td>-22.354915</td>\n",
       "      <td>-4.189354</td>\n",
       "      <td>-2.484423</td>\n",
       "      <td>2.504043</td>\n",
       "      <td>7.019316</td>\n",
       "      <td>-4.582313</td>\n",
       "      <td>-1.062871</td>\n",
       "      <td>16.918166</td>\n",
       "    </tr>\n",
       "    <tr>\n",
       "      <th>0.008</th>\n",
       "      <td>25.898951</td>\n",
       "      <td>-124.857424</td>\n",
       "      <td>-33.835557</td>\n",
       "      <td>-14.867236</td>\n",
       "      <td>69.020805</td>\n",
       "      <td>7.038448</td>\n",
       "      <td>-34.629211</td>\n",
       "      <td>-12.560248</td>\n",
       "      <td>22.023087</td>\n",
       "    </tr>\n",
       "    <tr>\n",
       "      <th>0.012</th>\n",
       "      <td>38.917066</td>\n",
       "      <td>-387.284992</td>\n",
       "      <td>-174.796645</td>\n",
       "      <td>-76.868435</td>\n",
       "      <td>374.017735</td>\n",
       "      <td>7.057393</td>\n",
       "      <td>-176.549703</td>\n",
       "      <td>-68.483973</td>\n",
       "      <td>24.102225</td>\n",
       "    </tr>\n",
       "    <tr>\n",
       "      <th>0.016</th>\n",
       "      <td>49.757426</td>\n",
       "      <td>-808.817196</td>\n",
       "      <td>-656.043205</td>\n",
       "      <td>-290.864429</td>\n",
       "      <td>1380.774015</td>\n",
       "      <td>7.076153</td>\n",
       "      <td>-660.279391</td>\n",
       "      <td>-260.007434</td>\n",
       "      <td>22.656348</td>\n",
       "    </tr>\n",
       "  </tbody>\n",
       "</table>\n",
       "</div>"
      ],
      "text/plain": [
       "           AUDIO        CHIN    LEFT_EEG    LEFT_EYE      MASTOID  POSITION  \\\n",
       "0.000   2.678350   -2.062166   -0.318644   -1.127049     0.702094  7.000000   \n",
       "0.004  13.064953  -22.354915   -4.189354   -2.484423     2.504043  7.019316   \n",
       "0.008  25.898951 -124.857424  -33.835557  -14.867236    69.020805  7.038448   \n",
       "0.012  38.917066 -387.284992 -174.796645  -76.868435   374.017735  7.057393   \n",
       "0.016  49.757426 -808.817196 -656.043205 -290.864429  1380.774015  7.076153   \n",
       "\n",
       "        RIGHT_EEG   RIGHT_EYE       IDUN  \n",
       "0.000   -0.543016    0.259682  11.795794  \n",
       "0.004   -4.582313   -1.062871  16.918166  \n",
       "0.008  -34.629211  -12.560248  22.023087  \n",
       "0.012 -176.549703  -68.483973  24.102225  \n",
       "0.016 -660.279391 -260.007434  22.656348  "
      ]
     },
     "execution_count": 5,
     "metadata": {},
     "output_type": "execute_result"
    }
   ],
   "source": [
    "preprocessed_data = pruned_data.copy()\n",
    "for channel in channels_to_filter:\n",
    "    raw_eeg = np.array(data_all[channel].values)\n",
    "    filtered_eeg = do_bandpass(raw_eeg, freq, sample_rate=config.BASE_SAMPLE_RATE)\n",
    "    preprocessed_data[channel] = filtered_eeg\n",
    "\n",
    "preprocessed_data.head()"
   ]
  },
  {
   "cell_type": "markdown",
   "metadata": {},
   "source": [
    "### Scale data\n",
    "\n",
    "Some of the data may not be in the same scale, such as in this example the external dataset is in volts while the idun data is in microvolts. We need to scale the data to the same scale."
   ]
  },
  {
   "cell_type": "code",
   "execution_count": null,
   "metadata": {},
   "outputs": [
    {
     "data": {
      "text/html": [
       "<div>\n",
       "<style scoped>\n",
       "    .dataframe tbody tr th:only-of-type {\n",
       "        vertical-align: middle;\n",
       "    }\n",
       "\n",
       "    .dataframe tbody tr th {\n",
       "        vertical-align: top;\n",
       "    }\n",
       "\n",
       "    .dataframe thead th {\n",
       "        text-align: right;\n",
       "    }\n",
       "</style>\n",
       "<table border=\"1\" class=\"dataframe\">\n",
       "  <thead>\n",
       "    <tr style=\"text-align: right;\">\n",
       "      <th></th>\n",
       "      <th>AUDIO</th>\n",
       "      <th>CHIN</th>\n",
       "      <th>LEFT_EEG</th>\n",
       "      <th>LEFT_EYE</th>\n",
       "      <th>MASTOID</th>\n",
       "      <th>POSITION</th>\n",
       "      <th>RIGHT_EEG</th>\n",
       "      <th>RIGHT_EYE</th>\n",
       "      <th>IDUN</th>\n",
       "    </tr>\n",
       "  </thead>\n",
       "  <tbody>\n",
       "    <tr>\n",
       "      <th>0.000</th>\n",
       "      <td>2.678350</td>\n",
       "      <td>-2.062166</td>\n",
       "      <td>-0.318644</td>\n",
       "      <td>-1.127049</td>\n",
       "      <td>0.702094</td>\n",
       "      <td>7.000000</td>\n",
       "      <td>-0.543016</td>\n",
       "      <td>0.259682</td>\n",
       "      <td>11.795794</td>\n",
       "    </tr>\n",
       "    <tr>\n",
       "      <th>0.004</th>\n",
       "      <td>13.064953</td>\n",
       "      <td>-22.354915</td>\n",
       "      <td>-4.189354</td>\n",
       "      <td>-2.484423</td>\n",
       "      <td>2.504043</td>\n",
       "      <td>7.019316</td>\n",
       "      <td>-4.582313</td>\n",
       "      <td>-1.062871</td>\n",
       "      <td>16.918166</td>\n",
       "    </tr>\n",
       "    <tr>\n",
       "      <th>0.008</th>\n",
       "      <td>25.898951</td>\n",
       "      <td>-124.857424</td>\n",
       "      <td>-33.835557</td>\n",
       "      <td>-14.867236</td>\n",
       "      <td>69.020805</td>\n",
       "      <td>7.038448</td>\n",
       "      <td>-34.629211</td>\n",
       "      <td>-12.560248</td>\n",
       "      <td>22.023087</td>\n",
       "    </tr>\n",
       "    <tr>\n",
       "      <th>0.012</th>\n",
       "      <td>38.917066</td>\n",
       "      <td>-387.284992</td>\n",
       "      <td>-174.796645</td>\n",
       "      <td>-76.868435</td>\n",
       "      <td>374.017735</td>\n",
       "      <td>7.057393</td>\n",
       "      <td>-176.549703</td>\n",
       "      <td>-68.483973</td>\n",
       "      <td>24.102225</td>\n",
       "    </tr>\n",
       "    <tr>\n",
       "      <th>0.016</th>\n",
       "      <td>49.757426</td>\n",
       "      <td>-808.817196</td>\n",
       "      <td>-656.043205</td>\n",
       "      <td>-290.864429</td>\n",
       "      <td>1380.774015</td>\n",
       "      <td>7.076153</td>\n",
       "      <td>-660.279391</td>\n",
       "      <td>-260.007434</td>\n",
       "      <td>22.656348</td>\n",
       "    </tr>\n",
       "  </tbody>\n",
       "</table>\n",
       "</div>"
      ],
      "text/plain": [
       "           AUDIO        CHIN    LEFT_EEG    LEFT_EYE      MASTOID  POSITION  \\\n",
       "0.000   2.678350   -2.062166   -0.318644   -1.127049     0.702094  7.000000   \n",
       "0.004  13.064953  -22.354915   -4.189354   -2.484423     2.504043  7.019316   \n",
       "0.008  25.898951 -124.857424  -33.835557  -14.867236    69.020805  7.038448   \n",
       "0.012  38.917066 -387.284992 -174.796645  -76.868435   374.017735  7.057393   \n",
       "0.016  49.757426 -808.817196 -656.043205 -290.864429  1380.774015  7.076153   \n",
       "\n",
       "        RIGHT_EEG   RIGHT_EYE       IDUN  \n",
       "0.000   -0.543016    0.259682  11.795794  \n",
       "0.004   -4.582313   -1.062871  16.918166  \n",
       "0.008  -34.629211  -12.560248  22.023087  \n",
       "0.012 -176.549703  -68.483973  24.102225  \n",
       "0.016 -660.279391 -260.007434  22.656348  "
      ]
     },
     "execution_count": 6,
     "metadata": {},
     "output_type": "execute_result"
    }
   ],
   "source": [
    "scaled_preprocessed_data = preprocessed_data.copy()\n",
    "for channel in channels_to_upscale:\n",
    "    scaled_preprocessed_data[channel] = preprocessed_data[channel] * upscale_factor\n",
    "\n",
    "scaled_preprocessed_data.head()"
   ]
  },
  {
   "cell_type": "markdown",
   "metadata": {},
   "source": [
    "### Removed too high spikes\n",
    "\n",
    "The EDF converter cannot handle too high spikes. We need to remove them. Therefore any data above 1000 microvolts is made equal to 1000 microvolts. The same with the negative values."
   ]
  },
  {
   "cell_type": "code",
   "execution_count": 7,
   "metadata": {},
   "outputs": [],
   "source": [
    "# clip data\n",
    "clipped_data = scaled_preprocessed_data.copy()\n",
    "all_channels = list(clipped_data.columns)\n",
    "for channel in all_channels:\n",
    "    clipped_data[channel] = clipped_data[channel].clip(\n",
    "        lower=clip_limits[0], upper=clip_limits[1]\n",
    "    )"
   ]
  },
  {
   "cell_type": "markdown",
   "metadata": {},
   "source": [
    "### Visualise data\n",
    "\n",
    "This is for sanity check. We can see if the data is in the correct scale and if the data is filtered correctly.\n",
    "\n",
    "Notice how I re-reference the data so that it shows similar signals as IDUN"
   ]
  },
  {
   "cell_type": "code",
   "execution_count": 8,
   "metadata": {},
   "outputs": [
    {
     "data": {
      "text/plain": [
       "Text(0.5, 0, 'Time (s)')"
      ]
     },
     "execution_count": 8,
     "metadata": {},
     "output_type": "execute_result"
    },
    {
     "data": {
      "image/png": "[encoded data removed]",
      "text/plain": [
       "<Figure size 2000x500 with 1 Axes>"
      ]
     },
     "metadata": {},
     "output_type": "display_data"
    }
   ],
   "source": [
    "# plot LEFT_EEG, RIGHT_EEG, IDUN\n",
    "fig, ax = plt.subplots(1, 1, figsize=(20, 5))\n",
    "time_axis_index = clipped_data.index.values / config.BASE_SAMPLE_RATE\n",
    "ax.plot(time_axis_index, clipped_data[\"IDUN\"].values, label=\"IDUN\")\n",
    "ax.plot(\n",
    "    time_axis_index,\n",
    "    clipped_data[\"RIGHT_EEG\"].values - clipped_data[\"LEFT_EEG\"].values,\n",
    "    label=\"External EEG\",\n",
    ")\n",
    "plt.title(\"IDUN and external EEG\")\n",
    "plt.legend()\n",
    "plt.ylabel(\"Voltage (uV)\")\n",
    "plt.xlabel(\"Time (s)\")\n",
    "# plt.ylim(-600, 600)"
   ]
  },
  {
   "cell_type": "markdown",
   "metadata": {},
   "source": [
    "### Do EDF conversion"
   ]
  },
  {
   "cell_type": "code",
   "execution_count": 9,
   "metadata": {},
   "outputs": [
    {
     "name": "stdout",
     "output_type": "stream",
     "text": [
      "['AUDIO', 'CHIN', 'LEFT_EEG', 'LEFT_EYE', 'MASTOID', 'POSITION', 'RIGHT_EEG', 'RIGHT_EYE', 'IDUN']\n",
      "(9, 6329059)\n"
     ]
    },
    {
     "name": "stderr",
     "output_type": "stream",
     "text": [
      "c:\\Users\\feder\\Envs\\labelling\\lib\\site-packages\\pyedflib\\edfwriter.py:91: UserWarning: Physical minimum for channel 5 (POSITION) is 0.9480277470909132, which has 18 chars, however, EDF+ can only save 8 chars, will be truncated to 0.948027, some loss of precision is to be expected\n",
      "  warnings.warn('Physical minimum for channel {} ({}) is {}, which has {} chars, '\\\n",
      "c:\\Users\\feder\\Envs\\labelling\\lib\\site-packages\\pyedflib\\edfwriter.py:98: UserWarning: Physical minimum for channel 5 (POSITION) is 7.987999113590995, which has 17 chars, however, EDF+ can only save 8 chars, will be truncated to 7.987999, some loss of precision is to be expected.\n",
      "  warnings.warn('Physical minimum for channel {} ({}) is {}, which has {} chars, '\\\n"
     ]
    },
    {
     "data": {
      "text/plain": [
       "True"
      ]
     },
     "execution_count": 9,
     "metadata": {},
     "output_type": "execute_result"
    }
   ],
   "source": [
    "# Get Channel names\n",
    "ch_names = list(clipped_data.columns)\n",
    "print(ch_names)\n",
    "\n",
    "# Transpose data\n",
    "clipped_data_values = clipped_data.values\n",
    "clipped_data_tr = np.transpose(clipped_data_values)\n",
    "print(np.shape(clipped_data_tr))\n",
    "\n",
    "# Create saving name\n",
    "new_savename = os.path.join(folder, subject, night, \"eeg_data.edf\")\n",
    "\n",
    "# prepare edf info\n",
    "signal_info = []\n",
    "for chan_indx in range(len(ch_names)):\n",
    "    add_channel = edf_info_single_channel(\n",
    "        clipped_data_tr[chan_indx],\n",
    "        ch_names[chan_indx],\n",
    "        config.BASE_SAMPLE_RATE,\n",
    "        voltage_units[chan_indx],\n",
    "    )\n",
    "    signal_info.append(add_channel)\n",
    "\n",
    "# create header for edf conversioon\n",
    "data_header = highlevel.make_header(\n",
    "    patientname=subject,\n",
    "    patient_additional=patient_additional,\n",
    "    recording_additional=rec_type,\n",
    ")\n",
    "# save signal as edf\n",
    "highlevel.write_edf(new_savename, clipped_data_tr, signal_info, data_header)"
   ]
  },
  {
   "cell_type": "code",
   "execution_count": null,
   "metadata": {},
   "outputs": [],
   "source": []
  }
 ],
 "metadata": {
  "kernelspec": {
   "display_name": "idn-sync-data-pWEap7XJ",
   "language": "python",
   "name": "python3"
  },
  "language_info": {
   "codemirror_mode": {
    "name": "ipython",
    "version": 3
   },
   "file_extension": ".py",
   "mimetype": "text/x-python",
   "name": "python",
   "nbconvert_exporter": "python",
   "pygments_lexer": "ipython3",
   "version": "3.11.4"
  },
  "orig_nbformat": 4
 },
 "nbformat": 4,
 "nbformat_minor": 2
}
