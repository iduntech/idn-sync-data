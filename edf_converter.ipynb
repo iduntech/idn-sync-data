{
 "cells": [
  {
   "cell_type": "code",
   "execution_count": 1,
   "metadata": {},
   "outputs": [],
   "source": [
    "import numpy as np\n",
    "from scipy import signal\n",
    "import scipy.io as sio\n",
    "import pandas as pd\n",
    "import matplotlib.pyplot as plt\n",
    "import pyxdf\n",
    "import glob\n",
    "import os\n",
    "from pyedflib import highlevel\n",
    "import config\n",
    "from utils.freq_calculator import do_bandpass\n",
    "from utils.edf_convert import edf_info_single_channel"
   ]
  },
  {
   "cell_type": "markdown",
   "metadata": {},
   "source": [
    "### Initialise constants"
   ]
  },
  {
   "cell_type": "code",
   "execution_count": 2,
   "metadata": {},
   "outputs": [],
   "source": [
    "folder = \"/Users/eliasmeier/Documents/IDUN/Data/Eurostars_Cerebra/ORP_inear_adaptation/02_Pilot_study\"\n",
    "subject = \"S010\"\n",
    "night = \"night1\"\n",
    "idun_file_ending = \"synced_data\"\n",
    "\n",
    "freq = [0.3,45]\n",
    "channels_to_filter = [\"IDUN\"]\n",
    "upscale_factor = 1\n",
    "channels_to_upscale = [\"CHIN\",\"LEFT_EEG\",\"LEFT_EYE\",\"RIGHT_EYE\",\"RIGHT_EEG\",\"MASTOID\"]\n",
    "channels_to_remove = [\"AUDIO\",\"POSITION\"]\n",
    "voltage_units = ['','uV','uV','uV','uV','','uV','uV','uV'] # AUDIO and POSITION would need no unit\n",
    "clip_limits = [-500,500]\n",
    "patient_additional = 'IDUN Technologies'\n",
    "rec_type = 'Sleep recording'\n",
    "\n",
    "csv_file_path = glob.glob(\n",
    "    os.path.join(folder, subject, night, f\"*{idun_file_ending}.csv\")\n",
    ")[0]\n"
   ]
  },
  {
   "cell_type": "markdown",
   "metadata": {},
   "source": [
    "### Upload data\n",
    "\n",
    "The synced data output from the sync_main stores the data as a dataframe"
   ]
  },
  {
   "cell_type": "code",
   "execution_count": 3,
   "metadata": {},
   "outputs": [
    {
     "data": {
      "text/html": [
       "<div>\n",
       "<style scoped>\n",
       "    .dataframe tbody tr th:only-of-type {\n",
       "        vertical-align: middle;\n",
       "    }\n",
       "\n",
       "    .dataframe tbody tr th {\n",
       "        vertical-align: top;\n",
       "    }\n",
       "\n",
       "    .dataframe thead th {\n",
       "        text-align: right;\n",
       "    }\n",
       "</style>\n",
       "<table border=\"1\" class=\"dataframe\">\n",
       "  <thead>\n",
       "    <tr style=\"text-align: right;\">\n",
       "      <th></th>\n",
       "      <th>AUDIO</th>\n",
       "      <th>CHIN</th>\n",
       "      <th>LEFT_EEG</th>\n",
       "      <th>LEFT_EYE</th>\n",
       "      <th>MASTOID</th>\n",
       "      <th>POSITION</th>\n",
       "      <th>RIGHT_EEG</th>\n",
       "      <th>RIGHT_EYE</th>\n",
       "      <th>IDUN</th>\n",
       "    </tr>\n",
       "  </thead>\n",
       "  <tbody>\n",
       "    <tr>\n",
       "      <th>0.000</th>\n",
       "      <td>4.051546</td>\n",
       "      <td>-0.951765</td>\n",
       "      <td>0.061525</td>\n",
       "      <td>0.188025</td>\n",
       "      <td>0.452956</td>\n",
       "      <td>7.000000</td>\n",
       "      <td>0.060640</td>\n",
       "      <td>-0.047533</td>\n",
       "      <td>71.419482</td>\n",
       "    </tr>\n",
       "    <tr>\n",
       "      <th>0.004</th>\n",
       "      <td>7.915261</td>\n",
       "      <td>-10.421146</td>\n",
       "      <td>0.230177</td>\n",
       "      <td>1.223250</td>\n",
       "      <td>1.667963</td>\n",
       "      <td>7.019466</td>\n",
       "      <td>-0.148710</td>\n",
       "      <td>-0.065432</td>\n",
       "      <td>76.131841</td>\n",
       "    </tr>\n",
       "    <tr>\n",
       "      <th>0.008</th>\n",
       "      <td>15.766715</td>\n",
       "      <td>-58.324862</td>\n",
       "      <td>1.608731</td>\n",
       "      <td>9.502252</td>\n",
       "      <td>46.509310</td>\n",
       "      <td>7.038747</td>\n",
       "      <td>-1.582238</td>\n",
       "      <td>-0.099889</td>\n",
       "      <td>96.831752</td>\n",
       "    </tr>\n",
       "    <tr>\n",
       "      <th>0.012</th>\n",
       "      <td>26.597320</td>\n",
       "      <td>-181.207808</td>\n",
       "      <td>8.108136</td>\n",
       "      <td>49.365543</td>\n",
       "      <td>253.039745</td>\n",
       "      <td>7.057843</td>\n",
       "      <td>-8.516519</td>\n",
       "      <td>-0.387334</td>\n",
       "      <td>85.105347</td>\n",
       "    </tr>\n",
       "    <tr>\n",
       "      <th>0.016</th>\n",
       "      <td>38.361154</td>\n",
       "      <td>-379.175300</td>\n",
       "      <td>30.200359</td>\n",
       "      <td>185.711253</td>\n",
       "      <td>935.446513</td>\n",
       "      <td>7.076752</td>\n",
       "      <td>-32.358486</td>\n",
       "      <td>-1.535520</td>\n",
       "      <td>91.087599</td>\n",
       "    </tr>\n",
       "  </tbody>\n",
       "</table>\n",
       "</div>"
      ],
      "text/plain": [
       "           AUDIO        CHIN   LEFT_EEG    LEFT_EYE     MASTOID  POSITION  \\\n",
       "0.000   4.051546   -0.951765   0.061525    0.188025    0.452956  7.000000   \n",
       "0.004   7.915261  -10.421146   0.230177    1.223250    1.667963  7.019466   \n",
       "0.008  15.766715  -58.324862   1.608731    9.502252   46.509310  7.038747   \n",
       "0.012  26.597320 -181.207808   8.108136   49.365543  253.039745  7.057843   \n",
       "0.016  38.361154 -379.175300  30.200359  185.711253  935.446513  7.076752   \n",
       "\n",
       "       RIGHT_EEG  RIGHT_EYE       IDUN  \n",
       "0.000   0.060640  -0.047533  71.419482  \n",
       "0.004  -0.148710  -0.065432  76.131841  \n",
       "0.008  -1.582238  -0.099889  96.831752  \n",
       "0.012  -8.516519  -0.387334  85.105347  \n",
       "0.016 -32.358486  -1.535520  91.087599  "
      ]
     },
     "execution_count": 3,
     "metadata": {},
     "output_type": "execute_result"
    }
   ],
   "source": [
    "# load complete data set\n",
    "data_all = pd.read_csv(csv_file_path,index_col=0)\n",
    "\n",
    "data_all.head()"
   ]
  },
  {
   "cell_type": "markdown",
   "metadata": {},
   "source": [
    "### Remove data\n",
    "\n",
    "Some channels may not make sense for the edf analysis so it is best to remove them"
   ]
  },
  {
   "cell_type": "code",
   "execution_count": 4,
   "metadata": {},
   "outputs": [],
   "source": [
    "pruned_data = data_all.drop(columns=channels_to_remove)"
   ]
  },
  {
   "cell_type": "markdown",
   "metadata": {},
   "source": [
    "### Filter data\n",
    "\n",
    "It is important to filter data because EDF only has 16 bits to represent the signal. If we don't filter the data, the signal will be distorted. This is because if there is a DC shift of the signal, the EDF converter is forced to reduce the resolution of the signal to represent the DC shift."
   ]
  },
  {
   "cell_type": "code",
   "execution_count": 5,
   "metadata": {},
   "outputs": [
    {
     "data": {
      "text/html": [
       "<div>\n",
       "<style scoped>\n",
       "    .dataframe tbody tr th:only-of-type {\n",
       "        vertical-align: middle;\n",
       "    }\n",
       "\n",
       "    .dataframe tbody tr th {\n",
       "        vertical-align: top;\n",
       "    }\n",
       "\n",
       "    .dataframe thead th {\n",
       "        text-align: right;\n",
       "    }\n",
       "</style>\n",
       "<table border=\"1\" class=\"dataframe\">\n",
       "  <thead>\n",
       "    <tr style=\"text-align: right;\">\n",
       "      <th></th>\n",
       "      <th>CHIN</th>\n",
       "      <th>LEFT_EEG</th>\n",
       "      <th>LEFT_EYE</th>\n",
       "      <th>MASTOID</th>\n",
       "      <th>RIGHT_EEG</th>\n",
       "      <th>RIGHT_EYE</th>\n",
       "      <th>IDUN</th>\n",
       "    </tr>\n",
       "  </thead>\n",
       "  <tbody>\n",
       "    <tr>\n",
       "      <th>0.000</th>\n",
       "      <td>-0.951765</td>\n",
       "      <td>0.061525</td>\n",
       "      <td>0.188025</td>\n",
       "      <td>0.452956</td>\n",
       "      <td>0.060640</td>\n",
       "      <td>-0.047533</td>\n",
       "      <td>-13.251139</td>\n",
       "    </tr>\n",
       "    <tr>\n",
       "      <th>0.004</th>\n",
       "      <td>-10.421146</td>\n",
       "      <td>0.230177</td>\n",
       "      <td>1.223250</td>\n",
       "      <td>1.667963</td>\n",
       "      <td>-0.148710</td>\n",
       "      <td>-0.065432</td>\n",
       "      <td>-8.021000</td>\n",
       "    </tr>\n",
       "    <tr>\n",
       "      <th>0.008</th>\n",
       "      <td>-58.324862</td>\n",
       "      <td>1.608731</td>\n",
       "      <td>9.502252</td>\n",
       "      <td>46.509310</td>\n",
       "      <td>-1.582238</td>\n",
       "      <td>-0.099889</td>\n",
       "      <td>-2.316524</td>\n",
       "    </tr>\n",
       "    <tr>\n",
       "      <th>0.012</th>\n",
       "      <td>-181.207808</td>\n",
       "      <td>8.108136</td>\n",
       "      <td>49.365543</td>\n",
       "      <td>253.039745</td>\n",
       "      <td>-8.516519</td>\n",
       "      <td>-0.387334</td>\n",
       "      <td>3.823596</td>\n",
       "    </tr>\n",
       "    <tr>\n",
       "      <th>0.016</th>\n",
       "      <td>-379.175300</td>\n",
       "      <td>30.200359</td>\n",
       "      <td>185.711253</td>\n",
       "      <td>935.446513</td>\n",
       "      <td>-32.358486</td>\n",
       "      <td>-1.535520</td>\n",
       "      <td>11.857154</td>\n",
       "    </tr>\n",
       "  </tbody>\n",
       "</table>\n",
       "</div>"
      ],
      "text/plain": [
       "             CHIN   LEFT_EEG    LEFT_EYE     MASTOID  RIGHT_EEG  RIGHT_EYE  \\\n",
       "0.000   -0.951765   0.061525    0.188025    0.452956   0.060640  -0.047533   \n",
       "0.004  -10.421146   0.230177    1.223250    1.667963  -0.148710  -0.065432   \n",
       "0.008  -58.324862   1.608731    9.502252   46.509310  -1.582238  -0.099889   \n",
       "0.012 -181.207808   8.108136   49.365543  253.039745  -8.516519  -0.387334   \n",
       "0.016 -379.175300  30.200359  185.711253  935.446513 -32.358486  -1.535520   \n",
       "\n",
       "            IDUN  \n",
       "0.000 -13.251139  \n",
       "0.004  -8.021000  \n",
       "0.008  -2.316524  \n",
       "0.012   3.823596  \n",
       "0.016  11.857154  "
      ]
     },
     "execution_count": 5,
     "metadata": {},
     "output_type": "execute_result"
    }
   ],
   "source": [
    "preprocessed_data = pruned_data.copy()\n",
    "for channel in channels_to_filter:\n",
    "    raw_eeg = np.array(data_all[channel].values)\n",
    "    filtered_eeg = do_bandpass(raw_eeg, freq, sample_rate=config.BASE_SAMPLE_RATE)\n",
    "    preprocessed_data[channel] = filtered_eeg\n",
    "\n",
    "preprocessed_data.head()"
   ]
  },
  {
   "cell_type": "markdown",
   "metadata": {},
   "source": [
    "### Scale data\n",
    "\n",
    "Some of the data may not be in the same scale, such as in this example the external dataset is in volts while the idun data is in microvolts. We need to scale the data to the same scale."
   ]
  },
  {
   "cell_type": "code",
   "execution_count": 6,
   "metadata": {},
   "outputs": [
    {
     "data": {
      "text/html": [
       "<div>\n",
       "<style scoped>\n",
       "    .dataframe tbody tr th:only-of-type {\n",
       "        vertical-align: middle;\n",
       "    }\n",
       "\n",
       "    .dataframe tbody tr th {\n",
       "        vertical-align: top;\n",
       "    }\n",
       "\n",
       "    .dataframe thead th {\n",
       "        text-align: right;\n",
       "    }\n",
       "</style>\n",
       "<table border=\"1\" class=\"dataframe\">\n",
       "  <thead>\n",
       "    <tr style=\"text-align: right;\">\n",
       "      <th></th>\n",
       "      <th>CHIN</th>\n",
       "      <th>LEFT_EEG</th>\n",
       "      <th>LEFT_EYE</th>\n",
       "      <th>MASTOID</th>\n",
       "      <th>RIGHT_EEG</th>\n",
       "      <th>RIGHT_EYE</th>\n",
       "      <th>IDUN</th>\n",
       "    </tr>\n",
       "  </thead>\n",
       "  <tbody>\n",
       "    <tr>\n",
       "      <th>0.000</th>\n",
       "      <td>-9.517655e+05</td>\n",
       "      <td>6.152532e+04</td>\n",
       "      <td>1.880245e+05</td>\n",
       "      <td>4.529557e+05</td>\n",
       "      <td>6.064028e+04</td>\n",
       "      <td>-4.753258e+04</td>\n",
       "      <td>-13.251139</td>\n",
       "    </tr>\n",
       "    <tr>\n",
       "      <th>0.004</th>\n",
       "      <td>-1.042115e+07</td>\n",
       "      <td>2.301773e+05</td>\n",
       "      <td>1.223250e+06</td>\n",
       "      <td>1.667963e+06</td>\n",
       "      <td>-1.487099e+05</td>\n",
       "      <td>-6.543216e+04</td>\n",
       "      <td>-8.021000</td>\n",
       "    </tr>\n",
       "    <tr>\n",
       "      <th>0.008</th>\n",
       "      <td>-5.832486e+07</td>\n",
       "      <td>1.608731e+06</td>\n",
       "      <td>9.502252e+06</td>\n",
       "      <td>4.650931e+07</td>\n",
       "      <td>-1.582238e+06</td>\n",
       "      <td>-9.988863e+04</td>\n",
       "      <td>-2.316524</td>\n",
       "    </tr>\n",
       "    <tr>\n",
       "      <th>0.012</th>\n",
       "      <td>-1.812078e+08</td>\n",
       "      <td>8.108136e+06</td>\n",
       "      <td>4.936554e+07</td>\n",
       "      <td>2.530397e+08</td>\n",
       "      <td>-8.516519e+06</td>\n",
       "      <td>-3.873344e+05</td>\n",
       "      <td>3.823596</td>\n",
       "    </tr>\n",
       "    <tr>\n",
       "      <th>0.016</th>\n",
       "      <td>-3.791753e+08</td>\n",
       "      <td>3.020036e+07</td>\n",
       "      <td>1.857113e+08</td>\n",
       "      <td>9.354465e+08</td>\n",
       "      <td>-3.235849e+07</td>\n",
       "      <td>-1.535520e+06</td>\n",
       "      <td>11.857154</td>\n",
       "    </tr>\n",
       "  </tbody>\n",
       "</table>\n",
       "</div>"
      ],
      "text/plain": [
       "               CHIN      LEFT_EEG      LEFT_EYE       MASTOID     RIGHT_EEG  \\\n",
       "0.000 -9.517655e+05  6.152532e+04  1.880245e+05  4.529557e+05  6.064028e+04   \n",
       "0.004 -1.042115e+07  2.301773e+05  1.223250e+06  1.667963e+06 -1.487099e+05   \n",
       "0.008 -5.832486e+07  1.608731e+06  9.502252e+06  4.650931e+07 -1.582238e+06   \n",
       "0.012 -1.812078e+08  8.108136e+06  4.936554e+07  2.530397e+08 -8.516519e+06   \n",
       "0.016 -3.791753e+08  3.020036e+07  1.857113e+08  9.354465e+08 -3.235849e+07   \n",
       "\n",
       "          RIGHT_EYE       IDUN  \n",
       "0.000 -4.753258e+04 -13.251139  \n",
       "0.004 -6.543216e+04  -8.021000  \n",
       "0.008 -9.988863e+04  -2.316524  \n",
       "0.012 -3.873344e+05   3.823596  \n",
       "0.016 -1.535520e+06  11.857154  "
      ]
     },
     "execution_count": 6,
     "metadata": {},
     "output_type": "execute_result"
    }
   ],
   "source": [
    "scaled_preprocessed_data = preprocessed_data.copy()\n",
    "for channel in channels_to_upscale:\n",
    "    scaled_preprocessed_data[channel] = preprocessed_data[channel] * upscale_factor\n",
    "\n",
    "scaled_preprocessed_data.head()"
   ]
  },
  {
   "cell_type": "markdown",
   "metadata": {},
   "source": [
    "### Removed too high spikes\n",
    "\n",
    "The EDF converter cannot handle too high spikes. We need to remove them. Therefore any data above 1000 microvolts is made equal to 1000 microvolts. The same with the negative values."
   ]
  },
  {
   "cell_type": "code",
   "execution_count": 7,
   "metadata": {},
   "outputs": [],
   "source": [
    "# clip data\n",
    "clipped_data = scaled_preprocessed_data.copy()\n",
    "all_channels = list(clipped_data.columns)\n",
    "for channel in all_channels:\n",
    "    clipped_data[channel] = clipped_data[channel].clip(\n",
    "        lower=clip_limits[0], upper=clip_limits[1]\n",
    "    )\n"
   ]
  },
  {
   "cell_type": "markdown",
   "metadata": {},
   "source": [
    "### Visualise data\n",
    "\n",
    "This is for sanity check. We can see if the data is in the correct scale and if the data is filtered correctly.\n",
    "\n",
    "Notice how I re-reference the data so that it shows similar signals as IDUN"
   ]
  },
  {
   "cell_type": "code",
   "execution_count": 9,
   "metadata": {},
   "outputs": [
    {
     "data": {
      "text/plain": [
       "Text(0.5, 0, 'Time (s)')"
      ]
     },
     "execution_count": 9,
     "metadata": {},
     "output_type": "execute_result"
    },
    {
     "name": "stderr",
     "output_type": "stream",
     "text": [
      "/Users/eliasmeier/anaconda3/envs/idn_sync_code/lib/python3.10/site-packages/IPython/core/events.py:93: UserWarning: Creating legend with loc=\"best\" can be slow with large amounts of data.\n",
      "  func(*args, **kwargs)\n"
     ]
    },
    {
     "data": {
      "image/png": "[encoded data removed]",
      "text/plain": [
       "<Figure size 2000x500 with 1 Axes>"
      ]
     },
     "metadata": {},
     "output_type": "display_data"
    }
   ],
   "source": [
    "# plot LEFT_EEG, RIGHT_EEG, IDUN\n",
    "fig, ax = plt.subplots(1, 1, figsize=(20, 5))\n",
    "time_axis_index = clipped_data.index.values / config.BASE_SAMPLE_RATE\n",
    "ax.plot(time_axis_index,clipped_data[\"IDUN\"].values, label=\"IDUN\")\n",
    "ax.plot(time_axis_index,clipped_data[\"RIGHT_EEG\"].values-clipped_data[\"LEFT_EEG\"].values, label=\"External EEG\")\n",
    "plt.title(\"IDUN and external EEG\")\n",
    "plt.legend()\n",
    "plt.ylabel(\"Voltage (uV)\")\n",
    "plt.xlabel(\"Time (s)\")\n",
    "#plt.ylim(-600, 600)"
   ]
  },
  {
   "cell_type": "markdown",
   "metadata": {},
   "source": [
    "### Do EDF conversion"
   ]
  },
  {
   "cell_type": "code",
   "execution_count": 10,
   "metadata": {},
   "outputs": [
    {
     "name": "stdout",
     "output_type": "stream",
     "text": [
      "['CHIN', 'LEFT_EEG', 'LEFT_EYE', 'MASTOID', 'RIGHT_EEG', 'RIGHT_EYE', 'IDUN']\n",
      "(7, 5062118)\n"
     ]
    },
    {
     "data": {
      "text/plain": [
       "True"
      ]
     },
     "execution_count": 10,
     "metadata": {},
     "output_type": "execute_result"
    }
   ],
   "source": [
    "# Get Channel names\n",
    "ch_names = list(clipped_data.columns)\n",
    "print(ch_names)\n",
    "\n",
    "# Transpose data\n",
    "clipped_data_values = clipped_data.values\n",
    "clipped_data_tr = np.transpose(clipped_data_values)\n",
    "print(np.shape(clipped_data_tr))\n",
    "\n",
    "# Create saving name\n",
    "new_savename = os.path.join(folder, subject, night,'eeg_data.edf')\n",
    "\n",
    "# prepare edf info \n",
    "signal_info = []\n",
    "for chan_indx in range(len(ch_names)):\n",
    "    add_channel = edf_info_single_channel(clipped_data_tr[chan_indx], ch_names[chan_indx], config.BASE_SAMPLE_RATE, voltage_units[chan_indx])\n",
    "    signal_info.append(add_channel)\n",
    "    \n",
    "# create header for edf conversioon\n",
    "data_header = highlevel.make_header(patientname=subject, patient_additional=patient_additional, recording_additional=rec_type)\n",
    "# save signal as edf\n",
    "highlevel.write_edf(new_savename, clipped_data_tr, signal_info, data_header)"
   ]
  },
  {
   "cell_type": "code",
   "execution_count": null,
   "metadata": {},
   "outputs": [],
   "source": []
  }
 ],
 "metadata": {
  "kernelspec": {
   "display_name": "idn-sync-data-pWEap7XJ",
   "language": "python",
   "name": "python3"
  },
  "language_info": {
   "codemirror_mode": {
    "name": "ipython",
    "version": 3
   },
   "file_extension": ".py",
   "mimetype": "text/x-python",
   "name": "python",
   "nbconvert_exporter": "python",
   "pygments_lexer": "ipython3",
   "version": "3.10.12"
  },
  "orig_nbformat": 4
 },
 "nbformat": 4,
 "nbformat_minor": 2
}
