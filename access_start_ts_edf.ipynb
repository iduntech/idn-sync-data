{
 "cells": [
  {
   "cell_type": "code",
   "execution_count": 2,
   "metadata": {},
   "outputs": [],
   "source": [
    "from pyedflib import highlevel"
   ]
  },
  {
   "cell_type": "code",
   "execution_count": 3,
   "metadata": {},
   "outputs": [],
   "source": [
    "# load edf file\n",
    "edf_file_path = '/Users/eliasmeier/Downloads/S004/night1/16735 - Night 2 - 555716 - output-scoring.edf'\n",
    "complete_edf_file = highlevel.read_edf(edf_file_path)"
   ]
  },
  {
   "cell_type": "code",
   "execution_count": 4,
   "metadata": {},
   "outputs": [
    {
     "data": {
      "text/plain": [
       "([array([153.42471084, 710.63696707, 572.09678945, ...,   5.27216407,\n",
       "           5.88247322,   6.64535966]),\n",
       "  array([ 3.16235847e+00,  2.16146764e+02,  1.36862156e+03, ...,\n",
       "         -9.44146550e+00, -4.72345653e+00,  7.35953856e-01]),\n",
       "  array([-2.16132084e-01, -1.70518204e+01, -3.49837260e+02, ...,\n",
       "          1.58713034e+01,  8.57583850e+00,  5.20870083e+00]),\n",
       "  array([8.71608631e-02, 9.62123478e+00, 1.96007141e+02, ...,\n",
       "         1.52788171e+01, 6.68767357e+00, 1.86825159e+00]),\n",
       "  array([ 5.61418500e-01,  8.14250923e+01,  1.67848265e+03, ...,\n",
       "         -1.07218848e+01, -8.37119663e+00, -3.66982025e+00]),\n",
       "  array([7.        , 7.        , 7.        , ..., 3.00003052, 3.00003052,\n",
       "         3.00003052]),\n",
       "  array([-1.47801141e-01, -1.14736778e+01, -2.35851878e+02, ...,\n",
       "          2.40140690e+01,  1.60859554e+01,  1.15556047e+01]),\n",
       "  array([-5.92822047e-02, -1.20053407e+01, -2.46463149e+02, ...,\n",
       "          2.02883999e+01,  9.39254433e+00,  4.40408032e+00])],\n",
       " [{'label': 'AUDIO',\n",
       "   'dimension': '',\n",
       "   'sample_rate': 50.0,\n",
       "   'sample_frequency': 50.0,\n",
       "   'physical_max': 10000.0,\n",
       "   'physical_min': 1.0,\n",
       "   'digital_max': 32767,\n",
       "   'digital_min': -32767,\n",
       "   'prefilter': '',\n",
       "   'transducer': ''},\n",
       "  {'label': 'CHIN',\n",
       "   'dimension': 'uV',\n",
       "   'sample_rate': 120.0,\n",
       "   'sample_frequency': 120.0,\n",
       "   'physical_max': 1918.0,\n",
       "   'physical_min': -2499.0,\n",
       "   'digital_max': 32767,\n",
       "   'digital_min': -32767,\n",
       "   'prefilter': '',\n",
       "   'transducer': ''},\n",
       "  {'label': 'LEFT_EEG',\n",
       "   'dimension': 'uV',\n",
       "   'sample_rate': 120.0,\n",
       "   'sample_frequency': 120.0,\n",
       "   'physical_max': 1995.0,\n",
       "   'physical_min': -10264.0,\n",
       "   'digital_max': 32767,\n",
       "   'digital_min': -32767,\n",
       "   'prefilter': '',\n",
       "   'transducer': ''},\n",
       "  {'label': 'LEFT_EYE',\n",
       "   'dimension': 'uV',\n",
       "   'sample_rate': 120.0,\n",
       "   'sample_frequency': 120.0,\n",
       "   'physical_max': 5744.0,\n",
       "   'physical_min': -1122.0,\n",
       "   'digital_max': 32767,\n",
       "   'digital_min': -32767,\n",
       "   'prefilter': '',\n",
       "   'transducer': ''},\n",
       "  {'label': 'MASTOID',\n",
       "   'dimension': 'uV',\n",
       "   'sample_rate': 120.0,\n",
       "   'sample_frequency': 120.0,\n",
       "   'physical_max': 25443.0,\n",
       "   'physical_min': -5367.0,\n",
       "   'digital_max': 32767,\n",
       "   'digital_min': -32767,\n",
       "   'prefilter': '',\n",
       "   'transducer': ''},\n",
       "  {'label': 'POSITION',\n",
       "   'dimension': '',\n",
       "   'sample_rate': 1.0,\n",
       "   'sample_frequency': 1.0,\n",
       "   'physical_max': 7.0,\n",
       "   'physical_min': 1.0,\n",
       "   'digital_max': 32767,\n",
       "   'digital_min': -32767,\n",
       "   'prefilter': '',\n",
       "   'transducer': ''},\n",
       "  {'label': 'RIGHT_EEG',\n",
       "   'dimension': 'uV',\n",
       "   'sample_rate': 120.0,\n",
       "   'sample_frequency': 120.0,\n",
       "   'physical_max': 1328.0,\n",
       "   'physical_min': -6919.0,\n",
       "   'digital_max': 32767,\n",
       "   'digital_min': -32767,\n",
       "   'prefilter': '',\n",
       "   'transducer': ''},\n",
       "  {'label': 'RIGHT_EYE',\n",
       "   'dimension': 'uV',\n",
       "   'sample_rate': 120.0,\n",
       "   'sample_frequency': 120.0,\n",
       "   'physical_max': 1374.0,\n",
       "   'physical_min': -7229.0,\n",
       "   'digital_max': 32767,\n",
       "   'digital_min': -32767,\n",
       "   'prefilter': '',\n",
       "   'transducer': ''}],\n",
       " {'technician': '',\n",
       "  'recording_additional': '',\n",
       "  'patientname': '',\n",
       "  'patient_additional': '',\n",
       "  'patientcode': '',\n",
       "  'equipment': '',\n",
       "  'admincode': '',\n",
       "  'gender': '',\n",
       "  'startdate': datetime.datetime(2023, 8, 4, 23, 19, 9),\n",
       "  'birthdate': '',\n",
       "  'annotations': []})"
      ]
     },
     "execution_count": 4,
     "metadata": {},
     "output_type": "execute_result"
    }
   ],
   "source": [
    "# have a look at all the data stored in that edf file\n",
    "complete_edf_file"
   ]
  },
  {
   "cell_type": "code",
   "execution_count": 5,
   "metadata": {},
   "outputs": [
    {
     "name": "stdout",
     "output_type": "stream",
     "text": [
      "2023-08-04 23:19:09\n"
     ]
    },
    {
     "data": {
      "text/plain": [
       "datetime.datetime(2023, 8, 4, 23, 19, 9)"
      ]
     },
     "execution_count": 5,
     "metadata": {},
     "output_type": "execute_result"
    }
   ],
   "source": [
    "# access start timestamp\n",
    "startdate = complete_edf_file[2]['startdate']\n",
    "print(startdate)\n",
    "startdate\n"
   ]
  },
  {
   "cell_type": "code",
   "execution_count": null,
   "metadata": {},
   "outputs": [],
   "source": []
  }
 ],
 "metadata": {
  "kernelspec": {
   "display_name": "idn_env",
   "language": "python",
   "name": "python3"
  },
  "language_info": {
   "codemirror_mode": {
    "name": "ipython",
    "version": 3
   },
   "file_extension": ".py",
   "mimetype": "text/x-python",
   "name": "python",
   "nbconvert_exporter": "python",
   "pygments_lexer": "ipython3",
   "version": "3.10.9"
  },
  "orig_nbformat": 4
 },
 "nbformat": 4,
 "nbformat_minor": 2
}
